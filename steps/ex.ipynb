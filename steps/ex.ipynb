{
 "metadata": {
  "language_info": {
   "codemirror_mode": {
    "name": "ipython",
    "version": 3
   },
   "file_extension": ".py",
   "mimetype": "text/x-python",
   "name": "python",
   "nbconvert_exporter": "python",
   "pygments_lexer": "ipython3",
   "version": "3.8.5-final"
  },
  "orig_nbformat": 2,
  "kernelspec": {
   "name": "python3",
   "display_name": "Python 3",
   "language": "python"
  }
 },
 "nbformat": 4,
 "nbformat_minor": 2,
 "cells": [
  {
   "cell_type": "code",
   "execution_count": 2,
   "metadata": {},
   "outputs": [
    {
     "output_type": "execute_result",
     "data": {
      "text/plain": [
       "(array(1), array(2), 140088688235984, 140088688237504)"
      ]
     },
     "metadata": {},
     "execution_count": 2
    }
   ],
   "source": [
    "import numpy as np\n",
    "\n",
    "x = np.array(1)\n",
    "y = np.array(2)\n",
    "x, y, id(x), id(y)"
   ]
  },
  {
   "cell_type": "code",
   "execution_count": 6,
   "metadata": {},
   "outputs": [
    {
     "output_type": "execute_result",
     "data": {
      "text/plain": [
       "(array(3), array(2), 170740752, 170117600)"
      ]
     },
     "metadata": {},
     "execution_count": 6
    }
   ],
   "source": [
    "x += y\n",
    "x, y, id(x), id(y)"
   ]
  },
  {
   "cell_type": "code",
   "execution_count": 7,
   "metadata": {},
   "outputs": [
    {
     "output_type": "execute_result",
     "data": {
      "text/plain": [
       "(5, array(2), 172063472, 170117600)"
      ]
     },
     "metadata": {},
     "execution_count": 7
    }
   ],
   "source": [
    "x = x + y\n",
    "x, y, id(x), id(y)"
   ]
  },
  {
   "cell_type": "code",
   "execution_count": 10,
   "metadata": {},
   "outputs": [
    {
     "output_type": "stream",
     "name": "stdout",
     "text": [
      "(3, 1, 3)\n[-9] (1,)\n"
     ]
    }
   ],
   "source": [
    "x = np.array([[[1, 2, 3]], [[4, 5, 6]], [[-10, -10, -10]]])\n",
    "print(x.shape)\n",
    "y = np.sum(x, axis=(0, 2))\n",
    "print(y, y.shape)"
   ]
  },
  {
   "cell_type": "code",
   "execution_count": 37,
   "metadata": {},
   "outputs": [
    {
     "output_type": "stream",
     "name": "stdout",
     "text": [
      "race God\n<super: <class 'God'>, <God object>>\nage 1000\n<super: <class 'God'>, <God object>>\nname Zeus\n<super: <class 'God'>, <God object>>\nGod\n"
     ]
    }
   ],
   "source": [
    "class God():\n",
    "    def __init__(self):\n",
    "        self.race = \"God\"\n",
    "        self.age = 1000\n",
    "        self.name = 'Zeus'\n",
    "\n",
    "    def __setattr__(self, attr, value):\n",
    "        print(attr, value)\n",
    "        super().__setattr__(attr, value)\n",
    "\n",
    "class Person():\n",
    "    def __init__(self):\n",
    "        self.race = 'human'\n",
    "        self.age = 30\n",
    "        self.name = 'Edward'\n",
    "\n",
    "class DemiGod(God):\n",
    "    def __init__(self):\n",
    "        super().__init__()\n",
    "        self.name = \"heraclues\"\n",
    "\n",
    "    def __setattr__(self, attr, value):\n",
    "        print(attr, value)\n",
    "        super().__setattr__(attr, value)\n",
    "\n",
    "    def __getattr__(self, attr):\n",
    "    \t# __getattr__ 를 재정의 하여 __dict__의 값을 반환하도록 수정 \n",
    "        if attr in self.__dict__:\n",
    "            return self.__dict__[attr]\n",
    "        return None\n",
    "\n",
    "# 신 \n",
    "g = God()\n",
    "print(g.race)\n",
    "\n",
    "# # 사람 \n",
    "# p = Person()\n",
    "# print(p.race)\n",
    "\n",
    "# # 반인반신 \n",
    "# d = DemiGod()\n",
    "# print(d.name)\n",
    "# d.race = 'demi'\n",
    "# print(d.race)\n",
    "# print(d.race)\n",
    "\n",
    "# # 속성 추가 \n",
    "# d.power = \"thunder\"\n",
    "# print(d.power)\n",
    "\n",
    "# # Person 객체는 __getattr__ 를 오버라이딩 하지 않았기 때문에 속성으로 데이터를 가져가는 것은 불가 \n",
    "# # __dict__ 를 이용하여 데이터 출력 \n",
    "# p.power = \"run\"\n",
    "# print(p.power)\n",
    "# print(p.__dict__)\n",
    "# print(p.__dict__['power'])"
   ]
  }
 ]
}